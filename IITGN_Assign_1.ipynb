{
  "nbformat": 4,
  "nbformat_minor": 0,
  "metadata": {
    "colab": {
      "name": "IITGN_Assign_1.ipynb",
      "provenance": [],
      "authorship_tag": "ABX9TyNiq7EHepo3GQaJ+ycr3ZnT",
      "include_colab_link": true
    },
    "kernelspec": {
      "name": "python3",
      "display_name": "Python 3"
    },
    "language_info": {
      "name": "python"
    },
    "widgets": {
      "application/vnd.jupyter.widget-state+json": {
        "cbe942b16d3d48c8993221804b20f053": {
          "model_module": "@jupyter-widgets/controls",
          "model_name": "VBoxModel",
          "model_module_version": "1.5.0",
          "state": {
            "_dom_classes": [
              "widget-interact"
            ],
            "_model_module": "@jupyter-widgets/controls",
            "_model_module_version": "1.5.0",
            "_model_name": "VBoxModel",
            "_view_count": null,
            "_view_module": "@jupyter-widgets/controls",
            "_view_module_version": "1.5.0",
            "_view_name": "VBoxView",
            "box_style": "",
            "children": [
              "IPY_MODEL_5bc0c879c7e548a896a9e07ae5f07f60",
              "IPY_MODEL_2456f20680fd4d9ca6c5bfd289560edf",
              "IPY_MODEL_64243d0ba43149e7b23fa0b85c68a399",
              "IPY_MODEL_e0633306874745c08e14c0f28ffa6c49",
              "IPY_MODEL_46d85a6de2284418b699c95eba79f0dc",
              "IPY_MODEL_0e07a6de04674539a4f89e2a3bbcbde2",
              "IPY_MODEL_0255616d65e94348964963b77d76e20e"
            ],
            "layout": "IPY_MODEL_8f0a371487ae450b8db0e6703e545846"
          }
        },
        "5bc0c879c7e548a896a9e07ae5f07f60": {
          "model_module": "@jupyter-widgets/controls",
          "model_name": "IntSliderModel",
          "model_module_version": "1.5.0",
          "state": {
            "_dom_classes": [],
            "_model_module": "@jupyter-widgets/controls",
            "_model_module_version": "1.5.0",
            "_model_name": "IntSliderModel",
            "_view_count": null,
            "_view_module": "@jupyter-widgets/controls",
            "_view_module_version": "1.5.0",
            "_view_name": "IntSliderView",
            "continuous_update": true,
            "description": "a",
            "description_tooltip": null,
            "disabled": false,
            "layout": "IPY_MODEL_d6fb53ab8a0f42bbb1430e997639e627",
            "max": 4,
            "min": -4,
            "orientation": "horizontal",
            "readout": true,
            "readout_format": "d",
            "step": 1,
            "style": "IPY_MODEL_eaece18368824a26b508a373740f2092",
            "value": 2
          }
        },
        "2456f20680fd4d9ca6c5bfd289560edf": {
          "model_module": "@jupyter-widgets/controls",
          "model_name": "IntSliderModel",
          "model_module_version": "1.5.0",
          "state": {
            "_dom_classes": [],
            "_model_module": "@jupyter-widgets/controls",
            "_model_module_version": "1.5.0",
            "_model_name": "IntSliderModel",
            "_view_count": null,
            "_view_module": "@jupyter-widgets/controls",
            "_view_module_version": "1.5.0",
            "_view_name": "IntSliderView",
            "continuous_update": true,
            "description": "b",
            "description_tooltip": null,
            "disabled": false,
            "layout": "IPY_MODEL_1541b2449764405a8ab22bcd751897f8",
            "max": 4,
            "min": -4,
            "orientation": "horizontal",
            "readout": true,
            "readout_format": "d",
            "step": 1,
            "style": "IPY_MODEL_1b08a01825e4480480edbf197879d41a",
            "value": 2
          }
        },
        "64243d0ba43149e7b23fa0b85c68a399": {
          "model_module": "@jupyter-widgets/controls",
          "model_name": "IntSliderModel",
          "model_module_version": "1.5.0",
          "state": {
            "_dom_classes": [],
            "_model_module": "@jupyter-widgets/controls",
            "_model_module_version": "1.5.0",
            "_model_name": "IntSliderModel",
            "_view_count": null,
            "_view_module": "@jupyter-widgets/controls",
            "_view_module_version": "1.5.0",
            "_view_name": "IntSliderView",
            "continuous_update": true,
            "description": "c",
            "description_tooltip": null,
            "disabled": false,
            "layout": "IPY_MODEL_652ffc87c7094adb9b8d106d431c937e",
            "max": 4,
            "min": -4,
            "orientation": "horizontal",
            "readout": true,
            "readout_format": "d",
            "step": 1,
            "style": "IPY_MODEL_ed81ef7625a045829e02e3e7427ab930",
            "value": 1
          }
        },
        "e0633306874745c08e14c0f28ffa6c49": {
          "model_module": "@jupyter-widgets/controls",
          "model_name": "IntSliderModel",
          "model_module_version": "1.5.0",
          "state": {
            "_dom_classes": [],
            "_model_module": "@jupyter-widgets/controls",
            "_model_module_version": "1.5.0",
            "_model_name": "IntSliderModel",
            "_view_count": null,
            "_view_module": "@jupyter-widgets/controls",
            "_view_module_version": "1.5.0",
            "_view_name": "IntSliderView",
            "continuous_update": true,
            "description": "d",
            "description_tooltip": null,
            "disabled": false,
            "layout": "IPY_MODEL_fc5c9c4af8744441b1a79a6d4067f871",
            "max": 4,
            "min": -4,
            "orientation": "horizontal",
            "readout": true,
            "readout_format": "d",
            "step": 1,
            "style": "IPY_MODEL_01808425a3b54ab3b41d2a1912632442",
            "value": 2
          }
        },
        "46d85a6de2284418b699c95eba79f0dc": {
          "model_module": "@jupyter-widgets/controls",
          "model_name": "IntSliderModel",
          "model_module_version": "1.5.0",
          "state": {
            "_dom_classes": [],
            "_model_module": "@jupyter-widgets/controls",
            "_model_module_version": "1.5.0",
            "_model_name": "IntSliderModel",
            "_view_count": null,
            "_view_module": "@jupyter-widgets/controls",
            "_view_module_version": "1.5.0",
            "_view_name": "IntSliderView",
            "continuous_update": true,
            "description": "e",
            "description_tooltip": null,
            "disabled": false,
            "layout": "IPY_MODEL_1e0f9ebbc03040b6b49df3ed7143bb35",
            "max": 4,
            "min": -4,
            "orientation": "horizontal",
            "readout": true,
            "readout_format": "d",
            "step": 1,
            "style": "IPY_MODEL_a7704a1eae0e4b54901b56f9d14edce7",
            "value": 1
          }
        },
        "0e07a6de04674539a4f89e2a3bbcbde2": {
          "model_module": "@jupyter-widgets/controls",
          "model_name": "IntSliderModel",
          "model_module_version": "1.5.0",
          "state": {
            "_dom_classes": [],
            "_model_module": "@jupyter-widgets/controls",
            "_model_module_version": "1.5.0",
            "_model_name": "IntSliderModel",
            "_view_count": null,
            "_view_module": "@jupyter-widgets/controls",
            "_view_module_version": "1.5.0",
            "_view_name": "IntSliderView",
            "continuous_update": true,
            "description": "f",
            "description_tooltip": null,
            "disabled": false,
            "layout": "IPY_MODEL_b4b962e0f7994b3a848cbcb849cd641a",
            "max": 4,
            "min": -4,
            "orientation": "horizontal",
            "readout": true,
            "readout_format": "d",
            "step": 1,
            "style": "IPY_MODEL_4e3ba183a5114b6e8b175881e0b86111",
            "value": 2
          }
        },
        "0255616d65e94348964963b77d76e20e": {
          "model_module": "@jupyter-widgets/output",
          "model_name": "OutputModel",
          "model_module_version": "1.0.0",
          "state": {
            "_dom_classes": [],
            "_model_module": "@jupyter-widgets/output",
            "_model_module_version": "1.0.0",
            "_model_name": "OutputModel",
            "_view_count": null,
            "_view_module": "@jupyter-widgets/output",
            "_view_module_version": "1.0.0",
            "_view_name": "OutputView",
            "layout": "IPY_MODEL_8906375d94e24191bfa0bad451d99fcc",
            "msg_id": "",
            "outputs": [
              {
                "output_type": "display_data",
                "data": {
                  "text/plain": "<Figure size 432x432 with 3 Axes>",
                  "image/png": "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\n"
                },
                "metadata": {
                  "needs_background": "light"
                }
              }
            ]
          }
        },
        "8f0a371487ae450b8db0e6703e545846": {
          "model_module": "@jupyter-widgets/base",
          "model_name": "LayoutModel",
          "model_module_version": "1.2.0",
          "state": {
            "_model_module": "@jupyter-widgets/base",
            "_model_module_version": "1.2.0",
            "_model_name": "LayoutModel",
            "_view_count": null,
            "_view_module": "@jupyter-widgets/base",
            "_view_module_version": "1.2.0",
            "_view_name": "LayoutView",
            "align_content": null,
            "align_items": null,
            "align_self": null,
            "border": null,
            "bottom": null,
            "display": null,
            "flex": null,
            "flex_flow": null,
            "grid_area": null,
            "grid_auto_columns": null,
            "grid_auto_flow": null,
            "grid_auto_rows": null,
            "grid_column": null,
            "grid_gap": null,
            "grid_row": null,
            "grid_template_areas": null,
            "grid_template_columns": null,
            "grid_template_rows": null,
            "height": null,
            "justify_content": null,
            "justify_items": null,
            "left": null,
            "margin": null,
            "max_height": null,
            "max_width": null,
            "min_height": null,
            "min_width": null,
            "object_fit": null,
            "object_position": null,
            "order": null,
            "overflow": null,
            "overflow_x": null,
            "overflow_y": null,
            "padding": null,
            "right": null,
            "top": null,
            "visibility": null,
            "width": null
          }
        },
        "d6fb53ab8a0f42bbb1430e997639e627": {
          "model_module": "@jupyter-widgets/base",
          "model_name": "LayoutModel",
          "model_module_version": "1.2.0",
          "state": {
            "_model_module": "@jupyter-widgets/base",
            "_model_module_version": "1.2.0",
            "_model_name": "LayoutModel",
            "_view_count": null,
            "_view_module": "@jupyter-widgets/base",
            "_view_module_version": "1.2.0",
            "_view_name": "LayoutView",
            "align_content": null,
            "align_items": null,
            "align_self": null,
            "border": null,
            "bottom": null,
            "display": null,
            "flex": null,
            "flex_flow": null,
            "grid_area": null,
            "grid_auto_columns": null,
            "grid_auto_flow": null,
            "grid_auto_rows": null,
            "grid_column": null,
            "grid_gap": null,
            "grid_row": null,
            "grid_template_areas": null,
            "grid_template_columns": null,
            "grid_template_rows": null,
            "height": null,
            "justify_content": null,
            "justify_items": null,
            "left": null,
            "margin": null,
            "max_height": null,
            "max_width": null,
            "min_height": null,
            "min_width": null,
            "object_fit": null,
            "object_position": null,
            "order": null,
            "overflow": null,
            "overflow_x": null,
            "overflow_y": null,
            "padding": null,
            "right": null,
            "top": null,
            "visibility": null,
            "width": null
          }
        },
        "eaece18368824a26b508a373740f2092": {
          "model_module": "@jupyter-widgets/controls",
          "model_name": "SliderStyleModel",
          "model_module_version": "1.5.0",
          "state": {
            "_model_module": "@jupyter-widgets/controls",
            "_model_module_version": "1.5.0",
            "_model_name": "SliderStyleModel",
            "_view_count": null,
            "_view_module": "@jupyter-widgets/base",
            "_view_module_version": "1.2.0",
            "_view_name": "StyleView",
            "description_width": "",
            "handle_color": null
          }
        },
        "1541b2449764405a8ab22bcd751897f8": {
          "model_module": "@jupyter-widgets/base",
          "model_name": "LayoutModel",
          "model_module_version": "1.2.0",
          "state": {
            "_model_module": "@jupyter-widgets/base",
            "_model_module_version": "1.2.0",
            "_model_name": "LayoutModel",
            "_view_count": null,
            "_view_module": "@jupyter-widgets/base",
            "_view_module_version": "1.2.0",
            "_view_name": "LayoutView",
            "align_content": null,
            "align_items": null,
            "align_self": null,
            "border": null,
            "bottom": null,
            "display": null,
            "flex": null,
            "flex_flow": null,
            "grid_area": null,
            "grid_auto_columns": null,
            "grid_auto_flow": null,
            "grid_auto_rows": null,
            "grid_column": null,
            "grid_gap": null,
            "grid_row": null,
            "grid_template_areas": null,
            "grid_template_columns": null,
            "grid_template_rows": null,
            "height": null,
            "justify_content": null,
            "justify_items": null,
            "left": null,
            "margin": null,
            "max_height": null,
            "max_width": null,
            "min_height": null,
            "min_width": null,
            "object_fit": null,
            "object_position": null,
            "order": null,
            "overflow": null,
            "overflow_x": null,
            "overflow_y": null,
            "padding": null,
            "right": null,
            "top": null,
            "visibility": null,
            "width": null
          }
        },
        "1b08a01825e4480480edbf197879d41a": {
          "model_module": "@jupyter-widgets/controls",
          "model_name": "SliderStyleModel",
          "model_module_version": "1.5.0",
          "state": {
            "_model_module": "@jupyter-widgets/controls",
            "_model_module_version": "1.5.0",
            "_model_name": "SliderStyleModel",
            "_view_count": null,
            "_view_module": "@jupyter-widgets/base",
            "_view_module_version": "1.2.0",
            "_view_name": "StyleView",
            "description_width": "",
            "handle_color": null
          }
        },
        "652ffc87c7094adb9b8d106d431c937e": {
          "model_module": "@jupyter-widgets/base",
          "model_name": "LayoutModel",
          "model_module_version": "1.2.0",
          "state": {
            "_model_module": "@jupyter-widgets/base",
            "_model_module_version": "1.2.0",
            "_model_name": "LayoutModel",
            "_view_count": null,
            "_view_module": "@jupyter-widgets/base",
            "_view_module_version": "1.2.0",
            "_view_name": "LayoutView",
            "align_content": null,
            "align_items": null,
            "align_self": null,
            "border": null,
            "bottom": null,
            "display": null,
            "flex": null,
            "flex_flow": null,
            "grid_area": null,
            "grid_auto_columns": null,
            "grid_auto_flow": null,
            "grid_auto_rows": null,
            "grid_column": null,
            "grid_gap": null,
            "grid_row": null,
            "grid_template_areas": null,
            "grid_template_columns": null,
            "grid_template_rows": null,
            "height": null,
            "justify_content": null,
            "justify_items": null,
            "left": null,
            "margin": null,
            "max_height": null,
            "max_width": null,
            "min_height": null,
            "min_width": null,
            "object_fit": null,
            "object_position": null,
            "order": null,
            "overflow": null,
            "overflow_x": null,
            "overflow_y": null,
            "padding": null,
            "right": null,
            "top": null,
            "visibility": null,
            "width": null
          }
        },
        "ed81ef7625a045829e02e3e7427ab930": {
          "model_module": "@jupyter-widgets/controls",
          "model_name": "SliderStyleModel",
          "model_module_version": "1.5.0",
          "state": {
            "_model_module": "@jupyter-widgets/controls",
            "_model_module_version": "1.5.0",
            "_model_name": "SliderStyleModel",
            "_view_count": null,
            "_view_module": "@jupyter-widgets/base",
            "_view_module_version": "1.2.0",
            "_view_name": "StyleView",
            "description_width": "",
            "handle_color": null
          }
        },
        "fc5c9c4af8744441b1a79a6d4067f871": {
          "model_module": "@jupyter-widgets/base",
          "model_name": "LayoutModel",
          "model_module_version": "1.2.0",
          "state": {
            "_model_module": "@jupyter-widgets/base",
            "_model_module_version": "1.2.0",
            "_model_name": "LayoutModel",
            "_view_count": null,
            "_view_module": "@jupyter-widgets/base",
            "_view_module_version": "1.2.0",
            "_view_name": "LayoutView",
            "align_content": null,
            "align_items": null,
            "align_self": null,
            "border": null,
            "bottom": null,
            "display": null,
            "flex": null,
            "flex_flow": null,
            "grid_area": null,
            "grid_auto_columns": null,
            "grid_auto_flow": null,
            "grid_auto_rows": null,
            "grid_column": null,
            "grid_gap": null,
            "grid_row": null,
            "grid_template_areas": null,
            "grid_template_columns": null,
            "grid_template_rows": null,
            "height": null,
            "justify_content": null,
            "justify_items": null,
            "left": null,
            "margin": null,
            "max_height": null,
            "max_width": null,
            "min_height": null,
            "min_width": null,
            "object_fit": null,
            "object_position": null,
            "order": null,
            "overflow": null,
            "overflow_x": null,
            "overflow_y": null,
            "padding": null,
            "right": null,
            "top": null,
            "visibility": null,
            "width": null
          }
        },
        "01808425a3b54ab3b41d2a1912632442": {
          "model_module": "@jupyter-widgets/controls",
          "model_name": "SliderStyleModel",
          "model_module_version": "1.5.0",
          "state": {
            "_model_module": "@jupyter-widgets/controls",
            "_model_module_version": "1.5.0",
            "_model_name": "SliderStyleModel",
            "_view_count": null,
            "_view_module": "@jupyter-widgets/base",
            "_view_module_version": "1.2.0",
            "_view_name": "StyleView",
            "description_width": "",
            "handle_color": null
          }
        },
        "1e0f9ebbc03040b6b49df3ed7143bb35": {
          "model_module": "@jupyter-widgets/base",
          "model_name": "LayoutModel",
          "model_module_version": "1.2.0",
          "state": {
            "_model_module": "@jupyter-widgets/base",
            "_model_module_version": "1.2.0",
            "_model_name": "LayoutModel",
            "_view_count": null,
            "_view_module": "@jupyter-widgets/base",
            "_view_module_version": "1.2.0",
            "_view_name": "LayoutView",
            "align_content": null,
            "align_items": null,
            "align_self": null,
            "border": null,
            "bottom": null,
            "display": null,
            "flex": null,
            "flex_flow": null,
            "grid_area": null,
            "grid_auto_columns": null,
            "grid_auto_flow": null,
            "grid_auto_rows": null,
            "grid_column": null,
            "grid_gap": null,
            "grid_row": null,
            "grid_template_areas": null,
            "grid_template_columns": null,
            "grid_template_rows": null,
            "height": null,
            "justify_content": null,
            "justify_items": null,
            "left": null,
            "margin": null,
            "max_height": null,
            "max_width": null,
            "min_height": null,
            "min_width": null,
            "object_fit": null,
            "object_position": null,
            "order": null,
            "overflow": null,
            "overflow_x": null,
            "overflow_y": null,
            "padding": null,
            "right": null,
            "top": null,
            "visibility": null,
            "width": null
          }
        },
        "a7704a1eae0e4b54901b56f9d14edce7": {
          "model_module": "@jupyter-widgets/controls",
          "model_name": "SliderStyleModel",
          "model_module_version": "1.5.0",
          "state": {
            "_model_module": "@jupyter-widgets/controls",
            "_model_module_version": "1.5.0",
            "_model_name": "SliderStyleModel",
            "_view_count": null,
            "_view_module": "@jupyter-widgets/base",
            "_view_module_version": "1.2.0",
            "_view_name": "StyleView",
            "description_width": "",
            "handle_color": null
          }
        },
        "b4b962e0f7994b3a848cbcb849cd641a": {
          "model_module": "@jupyter-widgets/base",
          "model_name": "LayoutModel",
          "model_module_version": "1.2.0",
          "state": {
            "_model_module": "@jupyter-widgets/base",
            "_model_module_version": "1.2.0",
            "_model_name": "LayoutModel",
            "_view_count": null,
            "_view_module": "@jupyter-widgets/base",
            "_view_module_version": "1.2.0",
            "_view_name": "LayoutView",
            "align_content": null,
            "align_items": null,
            "align_self": null,
            "border": null,
            "bottom": null,
            "display": null,
            "flex": null,
            "flex_flow": null,
            "grid_area": null,
            "grid_auto_columns": null,
            "grid_auto_flow": null,
            "grid_auto_rows": null,
            "grid_column": null,
            "grid_gap": null,
            "grid_row": null,
            "grid_template_areas": null,
            "grid_template_columns": null,
            "grid_template_rows": null,
            "height": null,
            "justify_content": null,
            "justify_items": null,
            "left": null,
            "margin": null,
            "max_height": null,
            "max_width": null,
            "min_height": null,
            "min_width": null,
            "object_fit": null,
            "object_position": null,
            "order": null,
            "overflow": null,
            "overflow_x": null,
            "overflow_y": null,
            "padding": null,
            "right": null,
            "top": null,
            "visibility": null,
            "width": null
          }
        },
        "4e3ba183a5114b6e8b175881e0b86111": {
          "model_module": "@jupyter-widgets/controls",
          "model_name": "SliderStyleModel",
          "model_module_version": "1.5.0",
          "state": {
            "_model_module": "@jupyter-widgets/controls",
            "_model_module_version": "1.5.0",
            "_model_name": "SliderStyleModel",
            "_view_count": null,
            "_view_module": "@jupyter-widgets/base",
            "_view_module_version": "1.2.0",
            "_view_name": "StyleView",
            "description_width": "",
            "handle_color": null
          }
        },
        "8906375d94e24191bfa0bad451d99fcc": {
          "model_module": "@jupyter-widgets/base",
          "model_name": "LayoutModel",
          "model_module_version": "1.2.0",
          "state": {
            "_model_module": "@jupyter-widgets/base",
            "_model_module_version": "1.2.0",
            "_model_name": "LayoutModel",
            "_view_count": null,
            "_view_module": "@jupyter-widgets/base",
            "_view_module_version": "1.2.0",
            "_view_name": "LayoutView",
            "align_content": null,
            "align_items": null,
            "align_self": null,
            "border": null,
            "bottom": null,
            "display": null,
            "flex": null,
            "flex_flow": null,
            "grid_area": null,
            "grid_auto_columns": null,
            "grid_auto_flow": null,
            "grid_auto_rows": null,
            "grid_column": null,
            "grid_gap": null,
            "grid_row": null,
            "grid_template_areas": null,
            "grid_template_columns": null,
            "grid_template_rows": null,
            "height": null,
            "justify_content": null,
            "justify_items": null,
            "left": null,
            "margin": null,
            "max_height": null,
            "max_width": null,
            "min_height": null,
            "min_width": null,
            "object_fit": null,
            "object_position": null,
            "order": null,
            "overflow": null,
            "overflow_x": null,
            "overflow_y": null,
            "padding": null,
            "right": null,
            "top": null,
            "visibility": null,
            "width": null
          }
        }
      }
    }
  },
  "cells": [
    {
      "cell_type": "markdown",
      "metadata": {
        "id": "view-in-github",
        "colab_type": "text"
      },
      "source": [
        "<a href=\"https://colab.research.google.com/github/Prajjwal009/IITGN_Tasks/blob/main/IITGN_Assign_1.ipynb\" target=\"_parent\"><img src=\"https://colab.research.google.com/assets/colab-badge.svg\" alt=\"Open In Colab\"/></a>"
      ]
    },
    {
      "cell_type": "code",
      "execution_count": 1,
      "metadata": {
        "id": "PxiRSBca3hey"
      },
      "outputs": [],
      "source": [
        "import jax\n",
        "from ipywidgets import interactive\n",
        "import jax.numpy as jnp\n",
        "from jax import grad, jit, vmap\n",
        "from jax import random\n",
        "\n",
        "\n",
        "from matplotlib import pyplot as plt"
      ]
    },
    {
      "cell_type": "code",
      "source": [
        "import numpy as np\n",
        "key = random.PRNGKey(0)\n",
        "cov = jnp.array([[2, 1], [1, 2]])\n",
        "mean = jnp.array([1,2])\n",
        "x1,x2 = jax.random.multivariate_normal(key, mean, cov, (5000,)).T"
      ],
      "metadata": {
        "colab": {
          "base_uri": "https://localhost:8080/"
        },
        "id": "GxvRSF9e3je2",
        "outputId": "41c1882d-3e79-4b55-cab6-582a8eafe872"
      },
      "execution_count": 2,
      "outputs": [
        {
          "output_type": "stream",
          "name": "stderr",
          "text": [
            "WARNING:absl:No GPU/TPU found, falling back to CPU. (Set TF_CPP_MIN_LOG_LEVEL=0 and rerun for more info.)\n"
          ]
        }
      ]
    },
    {
      "cell_type": "code",
      "source": [
        "import seaborn as sns\n",
        "from ipywidgets import interact, interactive, fixed, interact_manual\n",
        "import ipywidgets as widgets"
      ],
      "metadata": {
        "id": "_vTyBacx3rLm"
      },
      "execution_count": 3,
      "outputs": []
    },
    {
      "cell_type": "code",
      "source": [
        "sns.jointplot(x=x1, y=x2, kind=\"kde\", space=0);\n"
      ],
      "metadata": {
        "colab": {
          "base_uri": "https://localhost:8080/",
          "height": 441
        },
        "id": "TeHOU7WM3vIv",
        "outputId": "19070664-da1e-4264-dffe-d032a2c58059"
      },
      "execution_count": 4,
      "outputs": [
        {
          "output_type": "display_data",
          "data": {
            "text/plain": [
              "<Figure size 432x432 with 3 Axes>"
            ],
            "image/png": "[encoded data removed]"
          },
          "metadata": {
            "needs_background": "light"
          }
        }
      ]
    },
    {
      "cell_type": "code",
      "source": [
        "def plotter(a,b,c,d,e,f):\n",
        "\n",
        "  key = random.PRNGKey(0)\n",
        "  cov = jnp.array([[a, b], [c, d]])\n",
        "  mean = jnp.array([e,f])\n",
        "  x1,x2 = jax.random.multivariate_normal(key, mean, cov, (5000,)).T\n",
        "  sns.jointplot(x=x1, y=x2, kind=\"kde\", space=0);\n",
        "\n",
        "iplot = interactive(plotter,\n",
        "                    a = (-4,4,1),\n",
        "                    b = (-4,4,1),\n",
        "                    c = (-4,4,1),\n",
        "                    d = (-4,4,1),\n",
        "                    e = (-4,4,1),\n",
        "                    f = (-4,4,1),)\n",
        "\n",
        "iplot"
      ],
      "metadata": {
        "colab": {
          "base_uri": "https://localhost:8080/",
          "height": 633,
          "referenced_widgets": [
            "cbe942b16d3d48c8993221804b20f053",
            "5bc0c879c7e548a896a9e07ae5f07f60",
            "2456f20680fd4d9ca6c5bfd289560edf",
            "64243d0ba43149e7b23fa0b85c68a399",
            "e0633306874745c08e14c0f28ffa6c49",
            "46d85a6de2284418b699c95eba79f0dc",
            "0e07a6de04674539a4f89e2a3bbcbde2",
            "0255616d65e94348964963b77d76e20e",
            "8f0a371487ae450b8db0e6703e545846",
            "d6fb53ab8a0f42bbb1430e997639e627",
            "eaece18368824a26b508a373740f2092",
            "1541b2449764405a8ab22bcd751897f8",
            "1b08a01825e4480480edbf197879d41a",
            "652ffc87c7094adb9b8d106d431c937e",
            "ed81ef7625a045829e02e3e7427ab930",
            "fc5c9c4af8744441b1a79a6d4067f871",
            "01808425a3b54ab3b41d2a1912632442",
            "1e0f9ebbc03040b6b49df3ed7143bb35",
            "a7704a1eae0e4b54901b56f9d14edce7",
            "b4b962e0f7994b3a848cbcb849cd641a",
            "4e3ba183a5114b6e8b175881e0b86111",
            "8906375d94e24191bfa0bad451d99fcc"
          ]
        },
        "id": "X579xR9h3zR3",
        "outputId": "2f0fbd2a-a7f1-4586-b7d1-5472aed4d335"
      },
      "execution_count": 5,
      "outputs": [
        {
          "output_type": "display_data",
          "data": {
            "text/plain": [
              "interactive(children=(IntSlider(value=0, description='a', max=4, min=-4), IntSlider(value=0, description='b', …"
            ],
            "application/vnd.jupyter.widget-view+json": {
              "version_major": 2,
              "version_minor": 0,
              "model_id": "cbe942b16d3d48c8993221804b20f053"
            }
          },
          "metadata": {}
        }
      ]
    }
  ]
}